{
 "cells": [
  {
   "cell_type": "code",
   "execution_count": 1,
   "id": "af9cf75c-e77d-4fed-8699-1f587a04979e",
   "metadata": {},
   "outputs": [],
   "source": [
    "from langchain_community.vectorstores import FAISS\n",
    "from langchain_text_splitters import RecursiveCharacterTextSplitter\n",
    "\n",
    "from langchain.prompts import PromptTemplate\n",
    "from langchain.chains import RetrievalQA\n",
    "from langchain.chains import QAGenerationChain\n",
    "\n",
    "from langchain.retrievers import ContextualCompressionRetriever\n",
    "from langchain.retrievers.document_compressors import FlashrankRerank\n",
    "\n",
    "\n",
    "text_splitter = RecursiveCharacterTextSplitter()\n"
   ]
  },
  {
   "cell_type": "code",
   "execution_count": null,
   "id": "f0fa11df-6ce0-40f6-ad2c-3bf252356f7b",
   "metadata": {},
   "outputs": [],
   "source": []
  },
  {
   "cell_type": "code",
   "execution_count": 2,
   "id": "2821d17e-de1f-4720-911a-f253cb88a959",
   "metadata": {},
   "outputs": [],
   "source": [
    "from langchain_community.llms import Ollama\n",
    "llm = Ollama(model=\"gemma:7b\")"
   ]
  },
  {
   "cell_type": "code",
   "execution_count": null,
   "id": "fe604b6c-687c-4ee5-a687-03665b935350",
   "metadata": {},
   "outputs": [],
   "source": [
    "documents = text_splitter.split_documents(docs)\n",
    "vector = FAISS.from_documents(documents, embeddings)"
   ]
  },
  {
   "cell_type": "code",
   "execution_count": null,
   "id": "74c91c05-1f34-4be9-9f9d-39f99d25cb38",
   "metadata": {},
   "outputs": [],
   "source": []
  },
  {
   "cell_type": "code",
   "execution_count": 3,
   "id": "c3fbd442-5c77-4d74-a5b5-52c04b6af6cd",
   "metadata": {},
   "outputs": [
    {
     "data": {
      "text/plain": [
       "Ollama(model='gemma:7b')"
      ]
     },
     "execution_count": 3,
     "metadata": {},
     "output_type": "execute_result"
    }
   ],
   "source": [
    "llm"
   ]
  },
  {
   "cell_type": "code",
   "execution_count": 10,
   "id": "d9ab8f32-fb99-4373-b62a-518aa5946ca9",
   "metadata": {},
   "outputs": [
    {
     "data": {
      "text/plain": [
       "'**LangSmith can help with testing in various ways:**\\n\\n**1. Automated Test Generation:**\\n\\n* Generate automated unit tests from natural language descriptions of expected behavior.\\n* Reduce the burden of writing tedious test cases.\\n* Ensure comprehensive coverage of code.\\n\\n\\n**2. Test Understanding and Analysis:**\\n\\n* Summarize and analyze test results, providing insights into code quality.\\n* Identify areas for improvement in testing practices.\\n* Generate reports and dashboards for tracking test progress.\\n\\n\\n**3. Feature Verification:**\\n\\n* Create test cases from user stories and requirements.\\n* Verify that new features meet expectations.\\n* Automate regression testing after code changes.\\n\\n\\n**4. Exploratory Testing:**\\n\\n* Generate hypotheses and suggestions for exploratory testing.\\n* Identify potential areas of risk in the codebase.\\n* Automate the execution of exploratory tests.\\n\\n\\n**5. Continuous Testing Improvement:**\\n\\n* Recommend best practices for testing methodologies.\\n* Automate test workflows and integrate them into the CI/CD pipeline.\\n* Provide feedback on testing effectiveness and efficiency.\\n\\n\\n**6. Language Translation for Testing:**\\n\\n* Translate testing-related terminology and documentation across languages.\\n* Improve collaboration and communication among teams.\\n\\n\\n**7. Test Data Generation:**\\n\\n* Generate realistic and diverse test data from real-world scenarios.\\n* Reduce the need for manually crafting test cases.\\n\\n\\n**8. Test Automation Guidance:**\\n\\n* Recommend suitable testing frameworks and tools for different scenarios.\\n* Provide examples and tutorials to facilitate automation.\\n\\n\\n**Benefits of using LangSmith for testing:**\\n\\n* **Increased efficiency:** Automated testing saves time and resources.\\n* **Improved quality:** Comprehensive testing leads to higher quality software.\\n* **Reduced risk:** Early detection of defects reduces the impact of bugs.\\n* **Faster releases:** Automated testing accelerates the release process.\\n* **Enhanced collaboration:** Shared understanding of testing terminology and documentation improves teamwork.'"
      ]
     },
     "execution_count": 10,
     "metadata": {},
     "output_type": "execute_result"
    }
   ],
   "source": [
    "llm.invoke(\"how can langsmith help with testing?\")"
   ]
  },
  {
   "cell_type": "code",
   "execution_count": 3,
   "id": "b1ba88fa-36dc-4c42-85e0-4b74b686cb8e",
   "metadata": {},
   "outputs": [],
   "source": [
    "from langchain_community.document_loaders import PyPDFDirectoryLoader"
   ]
  },
  {
   "cell_type": "code",
   "execution_count": 4,
   "id": "8db3307e-2542-4c24-b62a-945e109a5084",
   "metadata": {},
   "outputs": [],
   "source": [
    "loader = PyPDFDirectoryLoader(\"./\")"
   ]
  },
  {
   "cell_type": "code",
   "execution_count": 5,
   "id": "21e73a27-8f8a-45a2-8de3-28242e6757cf",
   "metadata": {},
   "outputs": [],
   "source": [
    "docs = loader.load()"
   ]
  },
  {
   "cell_type": "code",
   "execution_count": 6,
   "id": "517dbef5-ee92-4c94-b108-bda5f51344d4",
   "metadata": {},
   "outputs": [],
   "source": [
    "from langchain_text_splitters import RecursiveCharacterTextSplitter\n",
    "\n",
    "text_splitter = RecursiveCharacterTextSplitter(\n",
    "    chunk_size=2000, chunk_overlap=200, add_start_index=True\n",
    ")\n",
    "all_splits = text_splitter.split_documents(docs)"
   ]
  },
  {
   "cell_type": "code",
   "execution_count": 7,
   "id": "bb7dd2d2-8f39-425a-b5e2-9a708a64968c",
   "metadata": {},
   "outputs": [
    {
     "name": "stderr",
     "output_type": "stream",
     "text": [
      "/Users/abiodunakogun/opt/anaconda3/envs/cbndemo/lib/python3.11/site-packages/tqdm/auto.py:21: TqdmWarning: IProgress not found. Please update jupyter and ipywidgets. See https://ipywidgets.readthedocs.io/en/stable/user_install.html\n",
      "  from .autonotebook import tqdm as notebook_tqdm\n"
     ]
    }
   ],
   "source": [
    "from langchain_community.embeddings import HuggingFaceEmbeddings\n",
    "\n",
    "embeddings = HuggingFaceEmbeddings(model_name='sentence-transformers/all-MiniLM-L6-v2',model_kwargs={'device':'cpu'})"
   ]
  },
  {
   "cell_type": "code",
   "execution_count": 8,
   "id": "a3e682d8-42c9-4565-b123-480761be5f3b",
   "metadata": {},
   "outputs": [],
   "source": [
    "from langchain_community.vectorstores import FAISS"
   ]
  },
  {
   "cell_type": "code",
   "execution_count": 9,
   "id": "82d81475-90e0-45c0-856a-1119cdc77892",
   "metadata": {},
   "outputs": [],
   "source": [
    "db = FAISS.from_documents(all_splits, embeddings)"
   ]
  },
  {
   "cell_type": "code",
   "execution_count": 39,
   "id": "6061c981-981e-4413-a0bf-e86e67f06d43",
   "metadata": {},
   "outputs": [],
   "source": [
    "db.save_local('./vectorstore/db_faiss')"
   ]
  },
  {
   "cell_type": "code",
   "execution_count": 10,
   "id": "e05094f1-1172-4a57-90e9-35ab9b48f932",
   "metadata": {},
   "outputs": [],
   "source": [
    "from langchain_chroma import Chroma\n",
    "#from langchain_openai import OpenAIEmbeddings\n",
    "\n",
    "vectorstore = Chroma.from_documents(documents=all_splits, embedding=embeddings)"
   ]
  },
  {
   "cell_type": "code",
   "execution_count": 11,
   "id": "4c4319d4-51c6-4480-9fd2-630711adb10f",
   "metadata": {},
   "outputs": [],
   "source": [
    "qa_template = \"\"\" Use the following pieces of information to answer the user's question. If you don't know the answer, just say you don't know, don't try to make up an answer.\\\n",
    "Context: {context}\n",
    "Question: {question}\n",
    "Only return the helpful answer below and nothing else.\n",
    "Helpful Answer:\n",
    "\"\"\"\n",
    "\n"
   ]
  },
  {
   "cell_type": "code",
   "execution_count": 12,
   "id": "a1f7ab1d-e596-4d9c-8a71-0e9e952f20e5",
   "metadata": {},
   "outputs": [],
   "source": [
    "prompt = PromptTemplate(template=qa_template, input_variables=['context','question'])"
   ]
  },
  {
   "cell_type": "code",
   "execution_count": 17,
   "id": "c916cdc8-3b6f-4df5-aa38-b6eac002cf40",
   "metadata": {},
   "outputs": [],
   "source": [
    "qa = RetrievalQA.from_chain_type(llm=llm, chain_type='stuff',\n",
    "                                 retriever=db.as_retriever(search_kwargs={'k':5}),\n",
    "                                                          return_source_documents=True,\n",
    "                                                          chain_type_kwargs={'prompt':prompt})"
   ]
  },
  {
   "cell_type": "code",
   "execution_count": 38,
   "id": "ec7d8cae-60c6-4e7d-bc84-715dc57e24c6",
   "metadata": {},
   "outputs": [
    {
     "data": {
      "text/plain": [
       "{'query': 'List some Infrastructure Providers ',\n",
       " 'result': 'The provided text mentions two Infrastructure Providers:\\n\\n- Telecommunication companies\\n- Inter-Scheme Settlement Providers',\n",
       " 'source_documents': [Document(page_content='7.0 SHARED SERVICES  ................................ ................................ ................................ ..................  85 \\n8.0 PRUDENTIAL RATIOS  ................................ ................................ ................................ ...............  86 \\n9.0 DATA INFRASTRUCTURE AND CYBER SECURITY  ................................ .........................  86', metadata={'source': 'Supervisory Framework for PSBs.pdf', 'page': 1, 'start_index': 3529}),\n",
       "  Document(page_content='6  Classified as Confidential  The Mobile Money Operators are the Lead initia tors for the mobile scheme and shall \\nbe responsible  for ensuring that the various  solutions  and services  within  an approved \\nmobile payment scheme meets the entire regulatory requirements as defined in this \\nframework and as may be specified from time to  time. \\nThe Lead initiator  (as an entity  and as representative  of other partners)  shall be legally \\nresponsible and accountable to the Central Bank of Nigeria and the end user. All \\nadvertisements and public pronouncements on their scheme shall emanate and be \\nissued by the Lead Initiator  only. \\n \\n4.2.1  Banks  \\nThe roles of the ban k as an MMO include:  \\na. Provision of all financial services for the operation of the mobile money  service.  \\n \\nb. Verification, approval and accountability for the credibility and integrity of their \\npartner organizations and recommending same to the CBN for  approva l. \\n \\n4.2.2  Non-Bank Mobile Money Operators  \\nThe roles of Non-bank Mobile Money Operators  include:  \\na. The provision and management of the technology required to deliver mobile \\npayment services to the  subscriber.  \\nb. The provision of the agent network required to extend al l the proposed services \\nto the  marketplace.  \\n4.3 Infrastructure  Providers  \\nThese are organizations providing infrastructure that enable switching, processing and \\nsettlement facilities for mobile  money services. Settlement here refers to  Inter-Scheme \\nSettlement.  \\n4.3.1  Telecommunications: Telecommunication companies play the important role of \\nproviding the infrastructure to drive the exchange of messages for mobile  payments.  \\n4.3.2  Inter -Scheme Settlement: The role of Inter -Scheme Settlement Provider shall be \\nto provide net po sitions of transactions across schemes to the inter -bank settlement \\nsystem to affect the finality of payment for services consummated across two  different \\nSchemes by various  participants.', metadata={'source': 'Framework and Guidelines on Mobile Money Services in Nigeria - July 2021.pdf', 'page': 5, 'start_index': 2}),\n",
       "  Document(page_content='Regulatory Framework for Agent Banking in Nigeria   Page 18 of 30 \\n 13.3  Data and Network Security Requirements  \\nFIs shall put in place systems that specifically , and at the minimum , address the \\nfollowing issues:   \\n \\ni. Physical and logical security of infrastructure ; \\nii. Availability of services ; \\niii. Data confidentiality and integrity ; \\niv. Encryption of PIN and electronic transactions ; \\nv. Customer accountability and non -repudiation of transactions ; and  \\nvi. Error messaging and exception handling.  \\n  \\n14.0 THIRD -PARTY SERVICE PROVIDERS  \\nFIs can engage third-party service provider s, with duly executed contracts,  for technology \\nplatform s, agent selection , agent network management  and agent training , PROVIDED  \\nthat, such contracts shall not constitute agent banking relationship.  \\n14.1 Responsibility of FIs in Resp ect of Third -Party Service Providers  \\ni. The FI shall be responsible for the agent banking business even where a third -\\nparty service provider is contracted to provide the services specified above.  \\n  \\nii. The FI shall ensure compliance of both the agent and third -party service provider \\nwith the standards and requirements of the agent banking regulations.  \\n \\n14.2 Conversion of Third Party Service Provider to Agent or Super  Agent  \\nAny third -party service provid er, who seeks to render agent banking in addition to \\nproviding the above services, shall be required to follow the due process for  operating as \\nan agent or super agent .  \\n \\n15.0 RISK MANAGEMENT  \\nFIs shall have responsibility to develop and implement risk management policies and \\nprocedures for agent banking activities.  \\n \\n15.1  Specific Risk Management Requirements  \\nFIs shall:  \\ni. Be responsible for monitoring and supervising the activities of their agents.  \\nii. Have information on the numbers and volumes of transactions carried out for \\neach type of service by each agent.', metadata={'source': 'Regulatory Framework for Agent Banking - Exposure Draft - Copy.pdf', 'page': 18, 'start_index': 2}),\n",
       "  Document(page_content='11  Classified as Confidential  8.3 INFRASTRUCTURE  PROVIDERS  \\n \\nThese are organizations providing infrastructure that enable switching, \\nprocessing  and settlement  facilities  for mobile  money  services.  Settlement  here \\nrefers  to Inter- Scheme  Settlement.  Infrastructure  providers  are to comply  with \\n“Guidelines  on Transactions  Switching  in Nigeria”  and “Guidelines  on Operations \\nof Electronic Payment Channels in  Nigeria”.  \\n \\n8.4 Mobile Network Operators  (MNOs):  \\n \\nTheir role shall  be guided by the following provisions:  \\n \\na. Providing  telecommunication  network  infrastructure  for the use of Mobile  Money \\nOperators;  \\nb. Ensuring that a secure communication channel based on the minimum \\ntechnology standard stipulated in these Guidelines  are implemented;  \\nc. That MNOs shall not give preferential treatment to any Financial institutions \\nincluding, DMB, MMO or PSB over another in terms of required access, traffic \\nand pricing;  \\nd. Ensuring that its customers are free to use any mobile money scheme service \\nof their choice;  \\ne. Shall not receive  deposits  from the public,  except  in respect  of the airtime  billing \\nof their  customers;  \\nf. Shall not allow the use of the airtime value loaded by their customers for \\npurposes of payments or to transfer monetary  value;  \\ng. Shall ensu re seamless interconnection between MMOs;  and \\nh. Shall not engage in any conduct which has a purpose or effect of anti - \\ncompetition in any aspect of mobile money  services.  \\n \\n8.5 CONSUMERS  \\nThey shall have rights/responsibilities as follows:  \\na. Ease of  enrolment  \\nb. Ease o f use (SMS, USSD, STK, IVR,  etc.)', metadata={'source': 'Framework and Guidelines on Mobile Money Services in Nigeria - July 2021.pdf', 'page': 21, 'start_index': 2}),\n",
       "  Document(page_content='Classified as Confidential  d. Network Security Policy  \\ne. Encryption Policy  \\nf. Confidential Data Policy  \\ng. Password Policy  \\nh. Third Party Connection Policy  \\ni. Incidence Response Policy  \\nj. Physical Security Policy  \\n \\n17. Enterprise Risk Management Framework  \\n18. Dispute Resolution Framework  \\n19. Contingency and Disaster Recovery Plan (Business Continuity \\nPlan) \\n20. Duly executed a greements (drafts, as applicable) with the \\nfollowing:  \\na. Technical p artners  \\nb. Participating banks  \\nc. Merchants  \\nd. Telcos  \\ne. Any other  relevant  party  \\n \\n21. Project Deployment Methodology  \\n22. A document that shall outline the strategy of the shared agent \\nnetwork including current and potential engagements, \\ngeographical spread and benefits to be deri ved \\n23. Qualifying criteria for engaging agents  e.g. \\na. Outreach  \\nb. Competence  \\nc. Integrity  \\nd. Others  \\n \\n24. Draft Service Level Agreements (SLAs) with sub -agents and \\nFinancial Institution ( FI) Agent Banking Contract   \\n25. Risk management, internal control, operational procedures and \\nany other policy and procedures    relevant to the management \\nof an agent banking arrangement   \\n26. Procedures for KYC and AML/CFT compliance  \\n27. Fraud detection plan and standard of care   \\n28. Consumer Protection Policy and Procedure Board Approval   \\n29. Certifications:', metadata={'source': 'Approved New Licence Categorization Requirements Consolidated - 2021.pdf', 'page': 2, 'start_index': 4})]}"
      ]
     },
     "execution_count": 38,
     "metadata": {},
     "output_type": "execute_result"
    }
   ],
   "source": [
    "qa.invoke('List some Infrastructure Providers ')"
   ]
  },
  {
   "cell_type": "code",
   "execution_count": null,
   "id": "30e9850f-e2b9-4cd2-aaaa-9deb6cec0887",
   "metadata": {},
   "outputs": [],
   "source": []
  },
  {
   "cell_type": "markdown",
   "id": "1089a9c5-585a-4b53-b23a-24635087c031",
   "metadata": {},
   "source": [
    "\n",
    "---FRAMEWORK FOR QUICK RESPONSE (QR) CODE---\n",
    "\n",
    "Who are the Participants in QR Code Payment in Nigeria\n",
    "\n",
    "What are Responsibilities of Participants in QR Code Payments in Nigeria\n",
    "\n",
    "What risk management principles shall guide the operations of QR Code Payments in Nigeria\n",
    "\n",
    "\n",
    "\n",
    "--Framework and Guidelines on Mobile Money Services\n",
    "\n",
    "Scenarios through which mobile money can be carriedout in Nigeria\n",
    "\n",
    "Who are Infrastructure Providers\n",
    "\n",
    "List some Infrastructure Providers\n",
    "\n",
    "\n"
   ]
  },
  {
   "cell_type": "code",
   "execution_count": null,
   "id": "cc3c77f9-eb8b-4bf5-8eed-33a941c7441d",
   "metadata": {},
   "outputs": [],
   "source": []
  },
  {
   "cell_type": "code",
   "execution_count": 41,
   "id": "0bf6c17f-389c-47fc-ad60-44c77c2baf17",
   "metadata": {},
   "outputs": [],
   "source": [
    "db_test= FAISS.load_local('./vectorstore/db_faiss',embeddings,allow_dangerous_deserialization=True)"
   ]
  },
  {
   "cell_type": "code",
   "execution_count": 42,
   "id": "86e766ec-d702-4ff4-a84c-e2dd170eeb48",
   "metadata": {},
   "outputs": [
    {
     "data": {
      "text/plain": [
       "<langchain_community.vectorstores.faiss.FAISS at 0x14cfc7850>"
      ]
     },
     "execution_count": 42,
     "metadata": {},
     "output_type": "execute_result"
    }
   ],
   "source": [
    "db"
   ]
  },
  {
   "cell_type": "code",
   "execution_count": null,
   "id": "222e00aa-9c5c-4320-aa7a-ecddb8cb5ac5",
   "metadata": {},
   "outputs": [],
   "source": []
  }
 ],
 "metadata": {
  "kernelspec": {
   "display_name": "Python 3 (ipykernel)",
   "language": "python",
   "name": "python3"
  },
  "language_info": {
   "codemirror_mode": {
    "name": "ipython",
    "version": 3
   },
   "file_extension": ".py",
   "mimetype": "text/x-python",
   "name": "python",
   "nbconvert_exporter": "python",
   "pygments_lexer": "ipython3",
   "version": "3.11.8"
  }
 },
 "nbformat": 4,
 "nbformat_minor": 5
}
